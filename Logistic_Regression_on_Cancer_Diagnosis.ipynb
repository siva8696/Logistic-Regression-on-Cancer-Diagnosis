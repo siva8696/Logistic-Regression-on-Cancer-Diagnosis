{
  "nbformat": 4,
  "nbformat_minor": 0,
  "metadata": {
    "colab": {
      "name": "Logistic Regression on Cancer Diagnosis.ipynb",
      "provenance": [],
      "include_colab_link": true
    },
    "kernelspec": {
      "name": "python3",
      "display_name": "Python 3"
    }
  },
  "cells": [
    {
      "cell_type": "markdown",
      "metadata": {
        "id": "view-in-github",
        "colab_type": "text"
      },
      "source": [
        "<a href=\"https://colab.research.google.com/github/siva8696/Logistic-Regression-on-Cancer-Diagnosis/blob/master/Logistic_Regression_on_Cancer_Diagnosis.ipynb\" target=\"_parent\"><img src=\"https://colab.research.google.com/assets/colab-badge.svg\" alt=\"Open In Colab\"/></a>"
      ]
    },
    {
      "cell_type": "markdown",
      "metadata": {
        "id": "efYkBGHWMLdD",
        "colab_type": "text"
      },
      "source": [
        "<h2>Personalized cancer diagnosis"
      ]
    },
    {
      "cell_type": "markdown",
      "metadata": {
        "id": "HHvq0byOML98",
        "colab_type": "text"
      },
      "source": [
        "**Description :**"
      ]
    },
    {
      "cell_type": "markdown",
      "metadata": {
        "id": "REgINYGaMMPi",
        "colab_type": "text"
      },
      "source": [
        "Source: https://www.kaggle.com/c/msk-redefining-cancer-treatment/\n",
        "\n",
        "Data: Memorial Sloan Kettering Cancer Center (MSKCC)\n",
        "\n",
        "Download training_variants.zip and training_text.zip from Kaggle.\n",
        "\n",
        "Context:\n",
        "Source: https://www.kaggle.com/c/msk-redefining-cancer-treatment/discussion/35336#198462\n",
        "\n",
        "Problem statement :\n",
        "Classify the given genetic variations/mutations based on evidence from text-based clinical literature."
      ]
    },
    {
      "cell_type": "markdown",
      "metadata": {
        "id": "i7nroyIGMMNL",
        "colab_type": "text"
      },
      "source": [
        "**Real-world/Business objectives and constraints.**"
      ]
    },
    {
      "cell_type": "markdown",
      "metadata": {
        "id": "Tj8moJkuMMKV",
        "colab_type": "text"
      },
      "source": [
        "* No low-latency requirement.\n",
        "* Interpretability is important.\n",
        "* Errors can be very costly.\n",
        "* Probability of a data-point belonging to each class is needed."
      ]
    },
    {
      "cell_type": "markdown",
      "metadata": {
        "id": "93FheKmUMMEu",
        "colab_type": "text"
      },
      "source": [
        "**ML Problem formulation :**"
      ]
    },
    {
      "cell_type": "markdown",
      "metadata": {
        "id": "HB2lPJeTMMCh",
        "colab_type": "text"
      },
      "source": [
        "**Data Overview**"
      ]
    },
    {
      "cell_type": "markdown",
      "metadata": {
        "id": "eDSlg2dEML7s",
        "colab_type": "text"
      },
      "source": [
        "- Source: https://www.kaggle.com/c/msk-redefining-cancer-treatment/data\n",
        "- We have two data files: one conatins the information about the genetic mutations and the other contains the clinical evidence (text) that  human experts/pathologists use to classify the genetic mutations. \n",
        "- Both these data files are have a common column called ID\n",
        "- <p> \n",
        "    Data file's information:\n",
        "    <ul> \n",
        "        <li>\n",
        "        training_variants (ID , Gene, Variations, Class)\n",
        "        </li>\n",
        "        <li>\n",
        "        training_text (ID, Text)\n",
        "        </li>\n",
        "    </ul>\n",
        "</p>"
      ]
    },
    {
      "cell_type": "markdown",
      "metadata": {
        "id": "H1I2lIQaML5V",
        "colab_type": "text"
      },
      "source": [
        "**Objective and Constraints :**"
      ]
    },
    {
      "cell_type": "markdown",
      "metadata": {
        "id": "BTRez6eZML03",
        "colab_type": "text"
      },
      "source": [
        "Objective: Predict the probability of each data-point belonging to each of the nine classes.\n",
        "\n",
        "Constraints:\n",
        "\n",
        "* Interpretability * Class probabilities are needed. * Penalize the errors in class probabilites => Metric is Log-loss. * No Latency constraints."
      ]
    },
    {
      "cell_type": "code",
      "metadata": {
        "id": "FtL3fGDmMsQ3",
        "colab_type": "code",
        "colab": {}
      },
      "source": [
        "import pandas as pd\n",
        "import matplotlib.pyplot as plt\n",
        "import re\n",
        "import time\n",
        "import warnings\n",
        "import numpy as np\n",
        "from nltk.corpus import stopwords\n",
        "from sklearn.decomposition import TruncatedSVD\n",
        "from sklearn.preprocessing import normalize\n",
        "from sklearn.feature_extraction.text import CountVectorizer\n",
        "from sklearn.manifold import TSNE\n",
        "import seaborn as sns\n",
        "from sklearn.neighbors import KNeighborsClassifier\n",
        "from sklearn.metrics import confusion_matrix\n",
        "from sklearn.metrics.classification import accuracy_score, log_loss\n",
        "from sklearn.feature_extraction.text import TfidfVectorizer\n",
        "from sklearn.linear_model import SGDClassifier\n",
        "from imblearn.over_sampling import SMOTE\n",
        "from collections import Counter\n",
        "from scipy.sparse import hstack\n",
        "from sklearn.multiclass import OneVsRestClassifier\n",
        "from sklearn.svm import SVC\n",
        "#from sklearn.cross_validation import StratifiedKFold \n",
        "from collections import Counter, defaultdict\n",
        "from sklearn.calibration import CalibratedClassifierCV\n",
        "from sklearn.naive_bayes import MultinomialNB\n",
        "from sklearn.naive_bayes import GaussianNB\n",
        "from sklearn.model_selection import train_test_split\n",
        "from sklearn.model_selection import GridSearchCV\n",
        "import math\n",
        "from sklearn.metrics import normalized_mutual_info_score\n",
        "from sklearn.ensemble import RandomForestClassifier\n",
        "warnings.filterwarnings(\"ignore\")\n",
        "\n",
        "from mlxtend.classifier import StackingClassifier\n",
        "\n",
        "from sklearn import model_selection\n",
        "from sklearn.linear_model import LogisticRegression\n"
      ],
      "execution_count": 0,
      "outputs": []
    },
    {
      "cell_type": "markdown",
      "metadata": {
        "id": "UUqry9p1M0KN",
        "colab_type": "text"
      },
      "source": [
        "**Reading Data**"
      ]
    },
    {
      "cell_type": "markdown",
      "metadata": {
        "id": "75W0KQHeM1ai",
        "colab_type": "text"
      },
      "source": [
        "**Reading Training Variants and Text data :**"
      ]
    },
    {
      "cell_type": "code",
      "metadata": {
        "id": "WfU-m1WKMwJU",
        "colab_type": "code",
        "outputId": "e4c3f754-713a-4e39-df83-9c3bd3b37a71",
        "colab": {
          "base_uri": "https://localhost:8080/",
          "height": 204
        }
      },
      "source": [
        "import os\n",
        "cwd = os.getcwd()\n",
        "#print(cwd)\n",
        "files = os.listdir(cwd)\n",
        "#print(files)\n",
        "data_var= pd.read_csv(\"sample_data/Case_Study1/training_variants\")\n",
        "#data_text=pd.read_csv(\"Case_Study1/training_text\")\n",
        "print(\"The Shape of the varaiants data is :\",data_var.shape)\n",
        "print(\"The total number of data points in variants data is\",data_var.shape[0])\n",
        "print(\"The total number of features in variants data is\",data_var.shape[1])\n",
        "print(\"The features are :\",data_var.columns.values)\n",
        "print(\"*\"*50)\n",
        "print(data_var.head())"
      ],
      "execution_count": 78,
      "outputs": [
        {
          "output_type": "stream",
          "text": [
            "The Shape of the varaiants data is : (3321, 4)\n",
            "The total number of data points in variants data is 3321\n",
            "The total number of features in variants data is 4\n",
            "The features are : ['ID' 'Gene' 'Variation' 'Class']\n",
            "**************************************************\n",
            "   ID    Gene             Variation  Class\n",
            "0   0  FAM58A  Truncating Mutations      1\n",
            "1   1     CBL                 W802*      2\n",
            "2   2     CBL                 Q249E      2\n",
            "3   3     CBL                 N454D      3\n",
            "4   4     CBL                 L399V      4\n"
          ],
          "name": "stdout"
        }
      ]
    },
    {
      "cell_type": "code",
      "metadata": {
        "id": "W9thS6GgM5eX",
        "colab_type": "code",
        "outputId": "f587f83d-3f31-4ad6-eb46-65be4e9e21dc",
        "colab": {
          "base_uri": "https://localhost:8080/",
          "height": 204
        }
      },
      "source": [
        "data_text=pd.read_csv(\"sample_data/Case_Study1/training_text\" , sep=\"\\|\\|\", names=[\"ID\",\"Text\"], skiprows=1)\n",
        "print(\"The Shape of the test data is :\",data_text.shape)\n",
        "print(\"The total number of data points in text data is\",data_text.shape[0])\n",
        "print(\"The total number of features in text data is\",data_text.shape[1])\n",
        "print(\"The features are :\",data_text.columns.values)\n",
        "print(\"*\"*50)\n",
        "print(data_text.head())"
      ],
      "execution_count": 79,
      "outputs": [
        {
          "output_type": "stream",
          "text": [
            "The Shape of the test data is : (3321, 2)\n",
            "The total number of data points in text data is 3321\n",
            "The total number of features in text data is 2\n",
            "The features are : ['ID' 'Text']\n",
            "**************************************************\n",
            "   ID                                               Text\n",
            "0   0  Cyclin-dependent kinases (CDKs) regulate a var...\n",
            "1   1   Abstract Background  Non-small cell lung canc...\n",
            "2   2   Abstract Background  Non-small cell lung canc...\n",
            "3   3  Recent evidence has demonstrated that acquired...\n",
            "4   4  Oncogenic mutations in the monomeric Casitas B...\n"
          ],
          "name": "stdout"
        }
      ]
    },
    {
      "cell_type": "markdown",
      "metadata": {
        "id": "uA1dXwEjM-6U",
        "colab_type": "text"
      },
      "source": [
        "**Preprocessing on  Text :**"
      ]
    },
    {
      "cell_type": "code",
      "metadata": {
        "id": "svguqTegM73l",
        "colab_type": "code",
        "outputId": "7f24d6aa-497b-4af0-bee4-2f4cb037cfa2",
        "colab": {
          "base_uri": "https://localhost:8080/",
          "height": 51
        }
      },
      "source": [
        "import nltk\n",
        "stop_words1 = nltk.download('stopwords')\n",
        "stop_words = set(stopwords.words('english'))"
      ],
      "execution_count": 80,
      "outputs": [
        {
          "output_type": "stream",
          "text": [
            "[nltk_data] Downloading package stopwords to /root/nltk_data...\n",
            "[nltk_data]   Package stopwords is already up-to-date!\n"
          ],
          "name": "stdout"
        }
      ]
    },
    {
      "cell_type": "code",
      "metadata": {
        "id": "_VbQdapaNDI5",
        "colab_type": "code",
        "outputId": "3d2a2f05-8809-46e5-e1f8-67b91008713e",
        "colab": {
          "base_uri": "https://localhost:8080/",
          "height": 54
        }
      },
      "source": [
        "print(stop_words)"
      ],
      "execution_count": 81,
      "outputs": [
        {
          "output_type": "stream",
          "text": [
            "{'for', 'will', 'yours', 'her', 'had', 'wouldn', 'too', 'but', 'it', 'up', 'in', 'whom', 'each', 'our', 'couldn', 'herself', 'most', 'hadn', 'shan', 'other', 'same', 'there', \"wouldn't\", 'below', 'any', 'is', 'mustn', 'they', 'just', 'was', \"hadn't\", 'your', 'ours', 't', 'between', 'them', 'myself', 'been', 'be', 'haven', 'own', \"won't\", 'his', 'o', 'after', 'who', 'few', 'again', \"mightn't\", 'i', 'won', 'doing', 'theirs', 'off', \"you've\", 'as', 'before', 'these', 'on', 'while', 'nor', 'll', 'ain', 'him', 'have', 'down', \"you'd\", 'do', \"don't\", 'isn', \"aren't\", \"shan't\", 'weren', 'doesn', 'how', \"isn't\", 'now', 'during', \"didn't\", \"needn't\", 'hers', 'by', 'above', 'wasn', 'at', 'such', 'very', 'some', \"doesn't\", 'mightn', 'only', 'the', 'to', 'a', 'out', \"you're\", 'me', 'more', 'an', 'when', 'can', 'he', 'does', 'himself', 'yourself', 'under', 'of', 'didn', 'you', \"shouldn't\", 'once', 'ma', \"haven't\", 'did', 'm', 'all', 'not', 'over', 'no', 'hasn', 'yourselves', \"it's\", 'why', 'about', 've', 'has', 'its', \"weren't\", 'because', 'if', 'we', 'aren', 'needn', 'd', 're', 'with', 'were', 'are', 'y', 'from', 'should', 'both', 'or', 's', 'through', \"she's\", 'those', 'itself', 'until', \"should've\", \"couldn't\", 'so', 'their', 'than', 'my', 'ourselves', 'further', \"you'll\", 'don', \"hasn't\", 'here', \"wasn't\", 'that', 'am', 'into', 'shouldn', 'what', 'and', 'against', \"mustn't\", \"that'll\", 'having', 'which', 'themselves', 'this', 'then', 'she', 'where', 'being'}\n"
          ],
          "name": "stdout"
        }
      ]
    },
    {
      "cell_type": "code",
      "metadata": {
        "id": "RgsjrvqKNFLg",
        "colab_type": "code",
        "colab": {}
      },
      "source": [
        "def nlp_preprocessing(text,index, column):\n",
        "  if type(text) is not int:\n",
        "    #Intiallizing the empty string\n",
        "    string = \"\"\n",
        "    #Removing the specail character and replace it with space\n",
        "    text = re.sub('[^a-zA-Z0-9\\n]',' ',text)\n",
        "    #Removing the multiple spaces and replace it with single space\n",
        "    text = re.sub('\\s+',' ',text)\n",
        "    #Converting the text into lower_case\n",
        "    text = text.lower()\n",
        "    #Removing the stop words from text and saving back into String\n",
        "    \n",
        "    for word in text.split():\n",
        "      if not word in stop_words:\n",
        "        string += word + \" \"\n",
        "    data_text[column][index]=string\n",
        "        "
      ],
      "execution_count": 0,
      "outputs": []
    },
    {
      "cell_type": "code",
      "metadata": {
        "id": "pQGkmcqoNHKj",
        "colab_type": "code",
        "outputId": "f0fe5dc4-169e-4c31-e479-05304afad709",
        "colab": {
          "base_uri": "https://localhost:8080/",
          "height": 119
        }
      },
      "source": [
        "#Checking the starting time\n",
        "start_time = time.clock()\n",
        "#Using iterrows we are iterating the data frame with index \n",
        "for index, row in data_text.iterrows():\n",
        "  if type(row['Text']) is str:\n",
        "    nlp_preprocessing(row['Text'],index,'Text')\n",
        "  else:\n",
        "    print(\"There is no string at Index:\", index)\n",
        "print(\"Time taking to process the text data is :\",time.clock()-start_time,\"Seconds\")"
      ],
      "execution_count": 83,
      "outputs": [
        {
          "output_type": "stream",
          "text": [
            "There is no string at Index: 1109\n",
            "There is no string at Index: 1277\n",
            "There is no string at Index: 1407\n",
            "There is no string at Index: 1639\n",
            "There is no string at Index: 2755\n",
            "Time taking to process the text data is : 28.183251000000382 Seconds\n"
          ],
          "name": "stdout"
        }
      ]
    },
    {
      "cell_type": "code",
      "metadata": {
        "id": "gL51cFfzNLFx",
        "colab_type": "code",
        "outputId": "27d4b2f6-bf91-4cc2-a6c0-7cdf54a3ba9f",
        "colab": {
          "base_uri": "https://localhost:8080/",
          "height": 153
        }
      },
      "source": [
        "#Merging the both Gene variations and Text data using ID\n",
        "final_data = pd.merge(data_var,data_text, on = 'ID', how='left')\n",
        "print(final_data.head())"
      ],
      "execution_count": 84,
      "outputs": [
        {
          "output_type": "stream",
          "text": [
            "   ID    Gene  ... Class                                               Text\n",
            "0   0  FAM58A  ...     1  cyclin dependent kinases cdks regulate variety...\n",
            "1   1     CBL  ...     2  abstract background non small cell lung cancer...\n",
            "2   2     CBL  ...     2  abstract background non small cell lung cancer...\n",
            "3   3     CBL  ...     3  recent evidence demonstrated acquired uniparen...\n",
            "4   4     CBL  ...     4  oncogenic mutations monomeric casitas b lineag...\n",
            "\n",
            "[5 rows x 5 columns]\n"
          ],
          "name": "stdout"
        }
      ]
    },
    {
      "cell_type": "code",
      "metadata": {
        "id": "-IXhWO5rNNQj",
        "colab_type": "code",
        "outputId": "983da9a6-a3ce-4bfa-e7f3-8c6d1658c2c5",
        "colab": {
          "base_uri": "https://localhost:8080/",
          "height": 204
        }
      },
      "source": [
        "final_data[final_data.isnull().values.any(axis=1)]"
      ],
      "execution_count": 85,
      "outputs": [
        {
          "output_type": "execute_result",
          "data": {
            "text/html": [
              "<div>\n",
              "<style scoped>\n",
              "    .dataframe tbody tr th:only-of-type {\n",
              "        vertical-align: middle;\n",
              "    }\n",
              "\n",
              "    .dataframe tbody tr th {\n",
              "        vertical-align: top;\n",
              "    }\n",
              "\n",
              "    .dataframe thead th {\n",
              "        text-align: right;\n",
              "    }\n",
              "</style>\n",
              "<table border=\"1\" class=\"dataframe\">\n",
              "  <thead>\n",
              "    <tr style=\"text-align: right;\">\n",
              "      <th></th>\n",
              "      <th>ID</th>\n",
              "      <th>Gene</th>\n",
              "      <th>Variation</th>\n",
              "      <th>Class</th>\n",
              "      <th>Text</th>\n",
              "    </tr>\n",
              "  </thead>\n",
              "  <tbody>\n",
              "    <tr>\n",
              "      <th>1109</th>\n",
              "      <td>1109</td>\n",
              "      <td>FANCA</td>\n",
              "      <td>S1088F</td>\n",
              "      <td>1</td>\n",
              "      <td>NaN</td>\n",
              "    </tr>\n",
              "    <tr>\n",
              "      <th>1277</th>\n",
              "      <td>1277</td>\n",
              "      <td>ARID5B</td>\n",
              "      <td>Truncating Mutations</td>\n",
              "      <td>1</td>\n",
              "      <td>NaN</td>\n",
              "    </tr>\n",
              "    <tr>\n",
              "      <th>1407</th>\n",
              "      <td>1407</td>\n",
              "      <td>FGFR3</td>\n",
              "      <td>K508M</td>\n",
              "      <td>6</td>\n",
              "      <td>NaN</td>\n",
              "    </tr>\n",
              "    <tr>\n",
              "      <th>1639</th>\n",
              "      <td>1639</td>\n",
              "      <td>FLT1</td>\n",
              "      <td>Amplification</td>\n",
              "      <td>6</td>\n",
              "      <td>NaN</td>\n",
              "    </tr>\n",
              "    <tr>\n",
              "      <th>2755</th>\n",
              "      <td>2755</td>\n",
              "      <td>BRAF</td>\n",
              "      <td>G596C</td>\n",
              "      <td>7</td>\n",
              "      <td>NaN</td>\n",
              "    </tr>\n",
              "  </tbody>\n",
              "</table>\n",
              "</div>"
            ],
            "text/plain": [
              "        ID    Gene             Variation  Class Text\n",
              "1109  1109   FANCA                S1088F      1  NaN\n",
              "1277  1277  ARID5B  Truncating Mutations      1  NaN\n",
              "1407  1407   FGFR3                 K508M      6  NaN\n",
              "1639  1639    FLT1         Amplification      6  NaN\n",
              "2755  2755    BRAF                 G596C      7  NaN"
            ]
          },
          "metadata": {
            "tags": []
          },
          "execution_count": 85
        }
      ]
    },
    {
      "cell_type": "code",
      "metadata": {
        "id": "4KkH0ISWNTYE",
        "colab_type": "code",
        "colab": {}
      },
      "source": [
        "final_data.loc[final_data['Text'].isnull(), 'Text'] = final_data['Gene']+' '+final_data['Variation']"
      ],
      "execution_count": 0,
      "outputs": []
    },
    {
      "cell_type": "markdown",
      "metadata": {
        "id": "rvLoziwLNqyM",
        "colab_type": "text"
      },
      "source": [
        "<h3>Splitting the data into Train and CV and Test :"
      ]
    },
    {
      "cell_type": "code",
      "metadata": {
        "id": "ozCkYA73NyWg",
        "colab_type": "code",
        "colab": {}
      },
      "source": [
        "y_value = final_data['Class'].values\n",
        "#Dividing the data into Train and Test and CV and Stratify make the class label in same distribution\n",
        "X_train, X_test, y_train, y_test = train_test_split(final_data, y_value, stratify=y_value, test_size=0.2, random_state=42)\n",
        "X_train, X_cv, y_train, y_cv = train_test_split(X_train, y_train, stratify=y_train ,test_size=0.2, random_state=42)"
      ],
      "execution_count": 0,
      "outputs": []
    },
    {
      "cell_type": "code",
      "metadata": {
        "id": "jt84loAqNwm5",
        "colab_type": "code",
        "outputId": "d97b9af2-f330-4b2b-a832-3a753201d9ce",
        "colab": {
          "base_uri": "https://localhost:8080/",
          "height": 68
        }
      },
      "source": [
        "print(\"Number of data points in train data :\",X_train.shape)\n",
        "print(\"Number of data points in test data :\",X_test.shape)\n",
        "print(\"Number of data points in cv data :\",X_cv.shape)"
      ],
      "execution_count": 88,
      "outputs": [
        {
          "output_type": "stream",
          "text": [
            "Number of data points in train data : (2124, 5)\n",
            "Number of data points in test data : (665, 5)\n",
            "Number of data points in cv data : (532, 5)\n"
          ],
          "name": "stdout"
        }
      ]
    },
    {
      "cell_type": "code",
      "metadata": {
        "id": "mj6F9_sON1YK",
        "colab_type": "code",
        "outputId": "2247b1b1-c74f-43ac-c4a4-31f30ef0171f",
        "colab": {
          "base_uri": "https://localhost:8080/",
          "height": 876
        }
      },
      "source": [
        "train_class_distribution=X_train['Class'].value_counts().sort_values()\n",
        "#Plotting the distribution of yi in train data\n",
        "my_colors = 'rgbkymc'\n",
        "train_class_distribution.plot(kind='bar')\n",
        "plt.xlabel('Class')\n",
        "plt.ylabel('Number of points per class')\n",
        "plt.title('Distribution of yi in train data')\n",
        "plt.grid()\n",
        "plt.show()\n",
        "\n",
        "\n",
        "print('*'*50)\n",
        "\n",
        "test_class_distribution=X_test['Class'].value_counts().sort_values()\n",
        "#Plotting the distribution of yi in test data\n",
        "my_colors='rgbkymc'\n",
        "test_class_distribution.plot(kind='bar')\n",
        "plt.xlabel('Class')\n",
        "plt.ylabel('Number of points per class')\n",
        "plt.title('Distribution of yi in test data')\n",
        "plt.grid()\n",
        "plt.show()\n",
        "\n",
        "print('*'*50)\n",
        "\n",
        "cv_class_distribution=X_cv['Class'].value_counts().sort_values()\n",
        "#Plotting the distribution of yi in test data\n",
        "my_colors = 'rgbkymc'\n",
        "cv_class_distribution.plot(kind='bar')\n",
        "plt.xlabel('Class')\n",
        "plt.ylabel('Number of points per class')\n",
        "plt.title('Distribution of yi in cv data')\n",
        "plt.grid()\n",
        "plt.show()"
      ],
      "execution_count": 89,
      "outputs": [
        {
          "output_type": "display_data",
          "data": {
            "image/png": "[encoded data removed]",
            "text/plain": [
              "<Figure size 432x288 with 1 Axes>"
            ]
          },
          "metadata": {
            "tags": []
          }
        },
        {
          "output_type": "stream",
          "text": [
            "**************************************************\n"
          ],
          "name": "stdout"
        },
        {
          "output_type": "display_data",
          "data": {
            "image/png": "[encoded data removed]",
            "text/plain": [
              "<Figure size 432x288 with 1 Axes>"
            ]
          },
          "metadata": {
            "tags": []
          }
        },
        {
          "output_type": "stream",
          "text": [
            "**************************************************\n"
          ],
          "name": "stdout"
        },
        {
          "output_type": "display_data",
          "data": {
            "image/png": "[encoded data removed]",
            "text/plain": [
              "<Figure size 432x288 with 1 Axes>"
            ]
          },
          "metadata": {
            "tags": []
          }
        }
      ]
    },
    {
      "cell_type": "markdown",
      "metadata": {
        "id": "t48IPx4uN8oF",
        "colab_type": "text"
      },
      "source": [
        "\n",
        "**Confusion Matrix, Precision, Re-call :**"
      ]
    },
    {
      "cell_type": "code",
      "metadata": {
        "id": "dDQXqB7HN3C0",
        "colab_type": "code",
        "colab": {}
      },
      "source": [
        "def plot_confusion_matrix(y_test, y_pred):\n",
        "  #Confusion matrix\n",
        "  A = confusion_matrix(y_test,y_pred)\n",
        "  #Precision matrix\n",
        "  B = (((A.T)/(A.sum(axis=1))).T)\n",
        "  #Recall matrix\n",
        "  C = (A/A.sum(axis=0))\n",
        "\n",
        "  labels = [1,2,3,4,5,6,7,8,9]\n",
        "  #Plot the consuion matrix\n",
        "  print(\"-\"*20,\"Confusion matrix\",\"-\"*20)\n",
        "  plt.figure(figsize=(20,7))\n",
        "  sns.heatmap(A,annot=True,cmap=\"YlGnBu\",fmt=\".3f\",xticklabels=labels,yticklabels=labels)\n",
        "  plt.xlabel(\"predicted Class\")\n",
        "  plt.ylabel(\"Actual Class\")\n",
        "  plt.show()\n",
        "\n",
        "  #Plot the precision matrix\n",
        "  print(\"-\"*20,\"Precision matrix (Column Sum = 1)\",\"-\"*20)\n",
        "  plt.figure(figsize=(20,7))\n",
        "  sns.heatmap(C,annot=True,cmap=\"YlGnBu\",fmt=\".3f\",xticklabels=labels,yticklabels=labels)\n",
        "  plt.xlabel(\"predicted Class\")\n",
        "  plt.ylabel(\"Actual Class\")\n",
        "  plt.show()\n",
        "\n",
        "  #Plot the recall matrix\n",
        "  print(\"-\"*20,\"Recall matrix (Row Sum = 1)\",\"-\"*20)\n",
        "  plt.figure(figsize=(20,7))\n",
        "  sns.heatmap(B,annot=True,cmap=\"YlGnBu\",fmt=\".3f\",xticklabels=labels,yticklabels=labels)\n",
        "  plt.xlabel(\"predicted Class\")\n",
        "  plt.ylabel(\"Actual Class\")\n",
        "  plt.show()"
      ],
      "execution_count": 0,
      "outputs": []
    },
    {
      "cell_type": "markdown",
      "metadata": {
        "id": "1Wr2MXWvOUQ7",
        "colab_type": "text"
      },
      "source": [
        "**Univariate analysis in Gene feature:**"
      ]
    },
    {
      "cell_type": "code",
      "metadata": {
        "id": "IurnljMjOV4-",
        "colab_type": "code",
        "outputId": "08137742-e52a-4ed8-fd53-392f789b8441",
        "colab": {
          "base_uri": "https://localhost:8080/",
          "height": 221
        }
      },
      "source": [
        "unique_gene = X_train['Gene'].value_counts()\n",
        "print(\"Number of unique Gene features are:\",unique_gene[0])\n",
        "print(unique_gene.head(10))"
      ],
      "execution_count": 91,
      "outputs": [
        {
          "output_type": "stream",
          "text": [
            "Number of unique Gene features are: 154\n",
            "BRCA1     154\n",
            "TP53      104\n",
            "EGFR       89\n",
            "PTEN       88\n",
            "BRCA2      83\n",
            "KIT        63\n",
            "BRAF       60\n",
            "ALK        43\n",
            "ERBB2      41\n",
            "PDGFRA     41\n",
            "Name: Gene, dtype: int64\n"
          ],
          "name": "stdout"
        }
      ]
    },
    {
      "cell_type": "code",
      "metadata": {
        "id": "G3u6e3LCOYAZ",
        "colab_type": "code",
        "outputId": "9644daae-8f23-4294-caaa-da4860078ffd",
        "colab": {
          "base_uri": "https://localhost:8080/",
          "height": 279
        }
      },
      "source": [
        "#print(unique_gene.values)\n",
        "#print(sum(unique_gene.values))\n",
        "s = sum(unique_gene.values)\n",
        "h = unique_gene.values/s\n",
        "plt.plot(h,label=\"Histogram of Genes\")\n",
        "plt.xlabel(\"Index of gene\")\n",
        "plt.ylabel(\"Number od times occur\")\n",
        "plt.legend()\n",
        "plt.grid()\n",
        "plt.show()"
      ],
      "execution_count": 92,
      "outputs": [
        {
          "output_type": "display_data",
          "data": {
            "image/png": "[encoded data removed]",
            "text/plain": [
              "<Figure size 432x288 with 1 Axes>"
            ]
          },
          "metadata": {
            "tags": []
          }
        }
      ]
    },
    {
      "cell_type": "code",
      "metadata": {
        "id": "tTPPMDKzOaAC",
        "colab_type": "code",
        "outputId": "167c2db8-adf4-44cd-d1f6-02bfe23b2d7e",
        "colab": {
          "base_uri": "https://localhost:8080/",
          "height": 265
        }
      },
      "source": [
        "t = np.cumsum(h)\n",
        "plt.plot(t,label=\"Cumlative disb of gene\")\n",
        "plt.legend()\n",
        "plt.grid()\n",
        "plt.show()"
      ],
      "execution_count": 93,
      "outputs": [
        {
          "output_type": "display_data",
          "data": {
            "image/png": "[encoded data removed]",
            "text/plain": [
              "<Figure size 432x288 with 1 Axes>"
            ]
          },
          "metadata": {
            "tags": []
          }
        }
      ]
    },
    {
      "cell_type": "code",
      "metadata": {
        "id": "C5rMArR8OciP",
        "colab_type": "code",
        "outputId": "4b25f089-68c9-47c1-f396-2d5f9ef68029",
        "colab": {
          "base_uri": "https://localhost:8080/",
          "height": 68
        }
      },
      "source": [
        "#Featurization for Gene feature using Tfidf Vectorizer\n",
        "gene_vectorizer = TfidfVectorizer(stop_words='english')\n",
        "train_gene_feature_tfidf = gene_vectorizer.fit_transform(X_train['Gene'])\n",
        "cv_gene_feature_tfidf = gene_vectorizer.transform(X_cv['Gene'])\n",
        "test_gene_feature_tfidf = gene_vectorizer.transform(X_test['Gene'])\n",
        "print(train_gene_feature_tfidf.shape)\n",
        "print(cv_gene_feature_tfidf.shape)\n",
        "print(test_gene_feature_tfidf.shape)"
      ],
      "execution_count": 94,
      "outputs": [
        {
          "output_type": "stream",
          "text": [
            "(2124, 236)\n",
            "(532, 236)\n",
            "(665, 236)\n"
          ],
          "name": "stdout"
        }
      ]
    },
    {
      "cell_type": "code",
      "metadata": {
        "id": "LdQYAWVcQrKb",
        "colab_type": "code",
        "colab": {}
      },
      "source": [
        "#alpha = [10 ** x for x in range(-4,4)]\n",
        "#a = []\n",
        "#for i in alpha:\n",
        "#  a.append(i)\n",
        "#print(a)\n"
      ],
      "execution_count": 0,
      "outputs": []
    },
    {
      "cell_type": "code",
      "metadata": {
        "id": "kYswlmoWOe_0",
        "colab_type": "code",
        "outputId": "233d701d-320b-4d1f-aadc-ecc7af89c88c",
        "colab": {
          "base_uri": "https://localhost:8080/",
          "height": 516
        }
      },
      "source": [
        "alpha = [10 ** x for x in range(-5,5)]\n",
        "cv_log_error = []\n",
        "for i in alpha:\n",
        "  clf=LogisticRegression(class_weight='balanced',C=i,penalty='l2',random_state=42)\n",
        "  clf.fit(train_gene_feature_tfidf,y_train)\n",
        "  sig_clf=CalibratedClassifierCV(clf,method='sigmoid')\n",
        "  sig_clf.fit(train_gene_feature_tfidf,y_train)\n",
        "  predicted_y=sig_clf.predict_proba(cv_gene_feature_tfidf)\n",
        "  cv_log_error.append(log_loss(y_cv,predicted_y,labels=clf.classes_,eps=1e-15))\n",
        "  print(\"For the C value \",i,\"the logg loss is :\",log_loss(y_cv,predicted_y,labels=clf.classes_,eps=1e-15))\n",
        "\n",
        "\n",
        "fig, ax = plt.subplots()\n",
        "ax.plot(alpha, cv_log_error,c='g')\n",
        "for i, txt in enumerate(np.round(cv_log_error,3)):\n",
        "    ax.annotate((alpha[i],np.round(txt,3)), (alpha[i],cv_log_error[i]))\n",
        "plt.grid()\n",
        "plt.title(\"Cross Validation Error for each k\")\n",
        "plt.xlabel(\"C's\")\n",
        "plt.ylabel(\"Error measure\")\n",
        "plt.show()\n",
        "\n",
        "\n",
        "best_alpha_gene = np.argmin(cv_log_error)\n",
        "clf = LogisticRegression(class_weight='balanced',C=alpha[best_alpha_gene],penalty='l2',random_state=42)\n",
        "clf.fit(train_gene_feature_tfidf, y_train)\n",
        "sig_clf = CalibratedClassifierCV(clf, method=\"sigmoid\")\n",
        "sig_clf.fit(train_gene_feature_tfidf, y_train)\n",
        "\n",
        "predict_y_gene = sig_clf.predict_proba(train_gene_feature_tfidf)\n",
        "print('For values of C alpha = ', alpha[best_alpha_gene], \"The train log loss is:\",log_loss(y_train, predict_y_gene, labels=clf.classes_, eps=1e-15))\n",
        "predict_y1_gene = sig_clf.predict_proba(cv_gene_feature_tfidf)\n",
        "print('For values of C alpha = ', alpha[best_alpha_gene], \"The cross validation log loss is:\",log_loss(y_cv, predict_y1_gene, labels=clf.classes_, eps=1e-15))\n",
        "predict_y2_gene = sig_clf.predict_proba(test_gene_feature_tfidf)\n",
        "print('For values of C alpha = ', alpha[best_alpha_gene], \"The test log loss is:\",log_loss(y_test, predict_y2_gene, labels=clf.classes_, eps=1e-15))\n"
      ],
      "execution_count": 95,
      "outputs": [
        {
          "output_type": "stream",
          "text": [
            "For the C value  1e-05 the logg loss is : 1.4919499652925878\n",
            "For the C value  0.0001 the logg loss is : 1.4864864467720382\n",
            "For the C value  0.001 the logg loss is : 1.4637388159323976\n",
            "For the C value  0.01 the logg loss is : 1.3545342286936608\n",
            "For the C value  0.1 the logg loss is : 1.2925600079333792\n",
            "For the C value  1 the logg loss is : 1.1899610564771046\n",
            "For the C value  10 the logg loss is : 1.168477223443221\n",
            "For the C value  100 the logg loss is : 1.190669597240119\n",
            "For the C value  1000 the logg loss is : 1.2186525362488556\n",
            "For the C value  10000 the logg loss is : 1.2411677304535413\n"
          ],
          "name": "stdout"
        },
        {
          "output_type": "display_data",
          "data": {
            "image/png": "[encoded data removed]",
            "text/plain": [
              "<Figure size 432x288 with 1 Axes>"
            ]
          },
          "metadata": {
            "tags": []
          }
        },
        {
          "output_type": "stream",
          "text": [
            "For values of C alpha =  10 The train log loss is: 0.9895439996043248\n",
            "For values of C alpha =  10 The cross validation log loss is: 1.168477223443221\n",
            "For values of C alpha =  10 The test log loss is: 1.2466627627285916\n"
          ],
          "name": "stdout"
        }
      ]
    },
    {
      "cell_type": "code",
      "metadata": {
        "id": "tI2ukUlERpu7",
        "colab_type": "code",
        "outputId": "40391ec6-c459-4ce1-b968-1482445b5f67",
        "colab": {
          "base_uri": "https://localhost:8080/",
          "height": 85
        }
      },
      "source": [
        "print(\"Q6. How many data points in Test and CV datasets are covered by the \", unique_gene.shape[0], \" genes in train dataset?\")\n",
        "\n",
        "test_coverage=X_test[X_test['Gene'].isin(list(set(X_train['Gene'])))].shape[0]\n",
        "cv_coverage=X_cv[X_cv['Gene'].isin(list(set(X_train['Gene'])))].shape[0]\n",
        "\n",
        "print('Ans\\n1. In test data',test_coverage, 'out of',X_test.shape[0], \":\",(test_coverage/X_test.shape[0])*100)\n",
        "print('2. In cross validation data',cv_coverage, 'out of ',X_cv.shape[0],\":\" ,(cv_coverage/X_cv.shape[0])*100)"
      ],
      "execution_count": 96,
      "outputs": [
        {
          "output_type": "stream",
          "text": [
            "Q6. How many data points in Test and CV datasets are covered by the  236  genes in train dataset?\n",
            "Ans\n",
            "1. In test data 642 out of 665 : 96.54135338345866\n",
            "2. In cross validation data 523 out of  532 : 98.30827067669173\n"
          ],
          "name": "stdout"
        }
      ]
    },
    {
      "cell_type": "markdown",
      "metadata": {
        "id": "TVNWa5p7TRWH",
        "colab_type": "text"
      },
      "source": [
        "As per the above analysis the Gene feature will be helpful for us to creating the model. Along with that we can see almost more than 96 percentage of test gene features are available in train gene."
      ]
    },
    {
      "cell_type": "markdown",
      "metadata": {
        "id": "1lfRoL0rTVvQ",
        "colab_type": "text"
      },
      "source": [
        "**Univariate analysis on Variant feature :**"
      ]
    },
    {
      "cell_type": "code",
      "metadata": {
        "id": "22JEKsz7TIeL",
        "colab_type": "code",
        "outputId": "e3012e1e-ceb3-45a3-9b45-e2ca20c03ea0",
        "colab": {
          "base_uri": "https://localhost:8080/",
          "height": 221
        }
      },
      "source": [
        "unique_var = X_train['Variation'].value_counts()\n",
        "print(\"Number of unique Gene features are:\",unique_var[0])\n",
        "print(unique_var.head(10))"
      ],
      "execution_count": 97,
      "outputs": [
        {
          "output_type": "stream",
          "text": [
            "Number of unique Gene features are: 66\n",
            "Truncating Mutations    66\n",
            "Amplification           47\n",
            "Deletion                42\n",
            "Fusions                 23\n",
            "Overexpression           4\n",
            "T58I                     3\n",
            "C618R                    2\n",
            "G67R                     2\n",
            "E542K                    2\n",
            "Q22K                     2\n",
            "Name: Variation, dtype: int64\n"
          ],
          "name": "stdout"
        }
      ]
    },
    {
      "cell_type": "code",
      "metadata": {
        "id": "CEQxGVkxTYzx",
        "colab_type": "code",
        "outputId": "26999007-744c-468d-b9d7-36e0f431de9b",
        "colab": {
          "base_uri": "https://localhost:8080/",
          "height": 279
        }
      },
      "source": [
        "#print(unique_gene.values)\n",
        "#print(sum(unique_gene.values))\n",
        "s = sum(unique_var.values)\n",
        "h = unique_var.values/s\n",
        "plt.plot(h,label=\"Histogram of Variation\")\n",
        "plt.xlabel(\"Index of Variation\")\n",
        "plt.ylabel(\"Number od times occur\")\n",
        "plt.legend()\n",
        "plt.grid()\n",
        "plt.show()"
      ],
      "execution_count": 98,
      "outputs": [
        {
          "output_type": "display_data",
          "data": {
            "image/png": "[encoded data removed]",
            "text/plain": [
              "<Figure size 432x288 with 1 Axes>"
            ]
          },
          "metadata": {
            "tags": []
          }
        }
      ]
    },
    {
      "cell_type": "code",
      "metadata": {
        "id": "iGKVVnlbTeqZ",
        "colab_type": "code",
        "outputId": "4cc730ac-ab95-4ddc-fc28-fe077ebf353c",
        "colab": {
          "base_uri": "https://localhost:8080/",
          "height": 68
        }
      },
      "source": [
        "#Tfidf Vectorizer for Variation feature\n",
        "tfidf = TfidfVectorizer(stop_words=\"english\",ngram_range=(1,1))\n",
        "train_var_feature_tfidf = tfidf.fit_transform(X_train['Variation'])\n",
        "cv_var_feature_tfidf = tfidf.transform(X_cv['Variation'])\n",
        "test_var_feature_tfidf = tfidf.transform(X_test['Variation'])\n",
        "print(train_var_feature_tfidf.shape)\n",
        "print(cv_var_feature_tfidf.shape)\n",
        "print(test_var_feature_tfidf.shape)"
      ],
      "execution_count": 99,
      "outputs": [
        {
          "output_type": "stream",
          "text": [
            "(2124, 1950)\n",
            "(532, 1950)\n",
            "(665, 1950)\n"
          ],
          "name": "stdout"
        }
      ]
    },
    {
      "cell_type": "code",
      "metadata": {
        "id": "M4bhXE4zTgrK",
        "colab_type": "code",
        "outputId": "670df6a5-dfde-4946-c90d-a061ed35f4fa",
        "colab": {
          "base_uri": "https://localhost:8080/",
          "height": 516
        }
      },
      "source": [
        "alpha = [10 ** x for x in range(-5,5)]\n",
        "cv_log_error = []\n",
        "for i in alpha:\n",
        "  clf=LogisticRegression(class_weight='balanced',C=i,penalty='l2',random_state=42)\n",
        "  clf.fit(train_var_feature_tfidf,y_train)\n",
        "  sig_clf=CalibratedClassifierCV(clf,method='sigmoid')\n",
        "  sig_clf.fit(train_var_feature_tfidf,y_train)\n",
        "  predicted_y=sig_clf.predict_proba(cv_var_feature_tfidf)\n",
        "  cv_log_error.append(log_loss(y_cv,predicted_y,labels=clf.classes_,eps=1e-15))\n",
        "  print(\"For the C value \",i,\"the logg loss is :\",log_loss(y_cv,predicted_y,labels=clf.classes_,eps=1e-15))\n",
        "\n",
        "\n",
        "fig, ax = plt.subplots()\n",
        "ax.plot(alpha, cv_log_error,c='g')\n",
        "for i, txt in enumerate(np.round(cv_log_error,3)):\n",
        "    ax.annotate((alpha[i],np.round(txt,3)), (alpha[i],cv_log_error[i]))\n",
        "plt.grid()\n",
        "plt.title(\"Cross Validation Error for each k\")\n",
        "plt.xlabel(\"C's\")\n",
        "plt.ylabel(\"Error measure\")\n",
        "plt.show()\n",
        "\n",
        "\n",
        "best_alpha_var = np.argmin(cv_log_error)\n",
        "clf = LogisticRegression(class_weight='balanced',C=alpha[best_alpha_var],penalty='l2',random_state=42)\n",
        "clf.fit(train_var_feature_tfidf, y_train)\n",
        "sig_clf = CalibratedClassifierCV(clf, method=\"sigmoid\")\n",
        "sig_clf.fit(train_var_feature_tfidf, y_train)\n",
        "\n",
        "predict_y_var = sig_clf.predict_proba(train_var_feature_tfidf)\n",
        "print('For values of C alpha = ', alpha[best_alpha_var], \"The train log loss is:\",log_loss(y_train, predict_y_var, labels=clf.classes_, eps=1e-15))\n",
        "predict_y1_var = sig_clf.predict_proba(cv_var_feature_tfidf)\n",
        "print('For values of C alpha = ', alpha[best_alpha_var], \"The cross validation log loss is:\",log_loss(y_cv, predict_y1_var, labels=clf.classes_, eps=1e-15))\n",
        "predict_y2_var = sig_clf.predict_proba(test_var_feature_tfidf)\n",
        "print('For values of C alpha = ', alpha[best_alpha_var], \"The test log loss is:\",log_loss(y_test, predict_y2_var, labels=clf.classes_, eps=1e-15))\n"
      ],
      "execution_count": 100,
      "outputs": [
        {
          "output_type": "stream",
          "text": [
            "For the C value  1e-05 the logg loss is : 1.7081289458002027\n",
            "For the C value  0.0001 the logg loss is : 1.7074951671919785\n",
            "For the C value  0.001 the logg loss is : 1.70250856589895\n",
            "For the C value  0.01 the logg loss is : 1.6918140000127806\n",
            "For the C value  0.1 the logg loss is : 1.6977563391404005\n",
            "For the C value  1 the logg loss is : 1.6947005076836485\n",
            "For the C value  10 the logg loss is : 1.6914554387414513\n",
            "For the C value  100 the logg loss is : 1.6957293595001852\n",
            "For the C value  1000 the logg loss is : 1.6998526556958347\n",
            "For the C value  10000 the logg loss is : 1.7025494147195854\n"
          ],
          "name": "stdout"
        },
        {
          "output_type": "display_data",
          "data": {
            "image/png": "[encoded data removed]",
            "text/plain": [
              "<Figure size 432x288 with 1 Axes>"
            ]
          },
          "metadata": {
            "tags": []
          }
        },
        {
          "output_type": "stream",
          "text": [
            "For values of C alpha =  10 The train log loss is: 0.7894118109840166\n",
            "For values of C alpha =  10 The cross validation log loss is: 1.6914554387414513\n",
            "For values of C alpha =  10 The test log loss is: 1.7180460938833293\n"
          ],
          "name": "stdout"
        }
      ]
    },
    {
      "cell_type": "code",
      "metadata": {
        "id": "5sWHTZSbT0YF",
        "colab_type": "code",
        "outputId": "9648a8d4-36d9-43cb-ce49-23beb7639e1a",
        "colab": {
          "base_uri": "https://localhost:8080/",
          "height": 85
        }
      },
      "source": [
        "print(\"Q6. How many data points in Test and CV datasets are covered by the \", unique_var.shape[0], \" variation in train dataset?\")\n",
        "\n",
        "test_coverage=X_test[X_test['Variation'].isin(list(set(X_train['Variation'])))].shape[0]\n",
        "cv_coverage=X_cv[X_cv['Variation'].isin(list(set(X_train['Variation'])))].shape[0]\n",
        "\n",
        "print('Ans\\n1. In test data',test_coverage, 'out of',X_test.shape[0], \":\",(test_coverage/X_test.shape[0])*100)\n",
        "print('2. In cross validation data',cv_coverage, 'out of ',X_cv.shape[0],\":\" ,(cv_coverage/X_cv.shape[0])*100)"
      ],
      "execution_count": 101,
      "outputs": [
        {
          "output_type": "stream",
          "text": [
            "Q6. How many data points in Test and CV datasets are covered by the  1923  variation in train dataset?\n",
            "Ans\n",
            "1. In test data 67 out of 665 : 10.075187969924812\n",
            "2. In cross validation data 53 out of  532 : 9.962406015037594\n"
          ],
          "name": "stdout"
        }
      ]
    },
    {
      "cell_type": "markdown",
      "metadata": {
        "id": "BpI2ydEYWHIs",
        "colab_type": "text"
      },
      "source": [
        "As per the above analysis the Variation feature will be not helpful for us to creating the model. Along with that we can see almost around 10 percentage of test Variation features are available in train Variation."
      ]
    },
    {
      "cell_type": "markdown",
      "metadata": {
        "id": "0cXxRrz9WMPT",
        "colab_type": "text"
      },
      "source": [
        "**Univariate analysis on Text feature :**"
      ]
    },
    {
      "cell_type": "code",
      "metadata": {
        "id": "Std8PelkWLIH",
        "colab_type": "code",
        "outputId": "5fb31fa7-2fe3-4750-e589-817ee6a5a012",
        "colab": {
          "base_uri": "https://localhost:8080/",
          "height": 68
        }
      },
      "source": [
        "#Tfidf Vectorizer for Text feature\n",
        "tfidf = TfidfVectorizer(stop_words=\"english\",min_df=10,max_features=15000)\n",
        "train_text_feature_tfidf = tfidf.fit_transform(X_train['Text'])\n",
        "cv_text_feature_tfidf = tfidf.transform(X_cv['Text'])\n",
        "test_text_feature_tfidf = tfidf.transform(X_test['Text'])\n",
        "print(train_text_feature_tfidf.shape)\n",
        "print(cv_text_feature_tfidf.shape)\n",
        "print(test_text_feature_tfidf.shape)"
      ],
      "execution_count": 102,
      "outputs": [
        {
          "output_type": "stream",
          "text": [
            "(2124, 15000)\n",
            "(532, 15000)\n",
            "(665, 15000)\n"
          ],
          "name": "stdout"
        }
      ]
    },
    {
      "cell_type": "code",
      "metadata": {
        "id": "aXU0NWlizAp5",
        "colab_type": "code",
        "colab": {}
      },
      "source": [
        "\n",
        "#print(tfidf.get_feature_names())\n",
        "#print(np.argsort((tfidf.idf_)[::-1]))"
      ],
      "execution_count": 0,
      "outputs": []
    },
    {
      "cell_type": "code",
      "metadata": {
        "id": "OveCkVY2yfxM",
        "colab_type": "code",
        "colab": {}
      },
      "source": [
        "#lectures = [\"this is some food\", \"this is some drink\"]\n",
        "#vectorizer = TfidfVectorizer()\n",
        "#X = vectorizer.fit_transform(lectures)\n",
        "#indices = np.argsort(tfidf.idf_)[::-1]\n",
        "#features = tfidf.get_feature_names()\n",
        "#top_n = 10\n",
        "#top_features = [features[i] for i in indices[:top_n]]\n",
        "#print(top_features)"
      ],
      "execution_count": 0,
      "outputs": []
    },
    {
      "cell_type": "code",
      "metadata": {
        "id": "9IXm2pANb791",
        "colab_type": "code",
        "outputId": "56968814-5370-41e3-ff0f-476cea693ddb",
        "colab": {
          "base_uri": "https://localhost:8080/",
          "height": 68
        }
      },
      "source": [
        "from sklearn.preprocessing import StandardScaler\n",
        "sc = StandardScaler(with_mean=False)\n",
        "train_text_feature_tfidf = sc.fit_transform(train_text_feature_tfidf)\n",
        "cv_text_feature_tfidf = sc.transform(cv_text_feature_tfidf)\n",
        "test_text_feature_tfidf = sc.transform(test_text_feature_tfidf)\n",
        "print(train_text_feature_tfidf.shape)\n",
        "print(cv_text_feature_tfidf.shape)\n",
        "print(test_text_feature_tfidf.shape)"
      ],
      "execution_count": 105,
      "outputs": [
        {
          "output_type": "stream",
          "text": [
            "(2124, 15000)\n",
            "(532, 15000)\n",
            "(665, 15000)\n"
          ],
          "name": "stdout"
        }
      ]
    },
    {
      "cell_type": "code",
      "metadata": {
        "id": "KCzqWkGuWPxI",
        "colab_type": "code",
        "outputId": "ca0f66ad-2e7c-4033-ff85-4feab16d49b0",
        "colab": {
          "base_uri": "https://localhost:8080/",
          "height": 516
        }
      },
      "source": [
        "alpha = [10 ** x for x in range(-5,5)]\n",
        "cv_log_error = []\n",
        "for i in alpha:\n",
        "  clf=LogisticRegression(class_weight='balanced',C=i,penalty='l2',random_state=42,n_jobs=-1)\n",
        "  clf.fit(train_text_feature_tfidf,y_train)\n",
        "  sig_clf=CalibratedClassifierCV(clf,method='sigmoid')\n",
        "  sig_clf.fit(train_text_feature_tfidf,y_train)\n",
        "  predicted_y=sig_clf.predict_proba(cv_text_feature_tfidf)\n",
        "  cv_log_error.append(log_loss(y_cv,predicted_y,labels=clf.classes_,eps=1e-15))\n",
        "  print(\"For the C value \",i,\"the logg loss is :\",log_loss(y_cv,predicted_y,labels=clf.classes_,eps=1e-15))\n",
        "\n",
        "\n",
        "fig, ax = plt.subplots()\n",
        "ax.plot(alpha, cv_log_error,c='g')\n",
        "for i, txt in enumerate(np.round(cv_log_error,3)):\n",
        "    ax.annotate((alpha[i],np.round(txt,3)), (alpha[i],cv_log_error[i]))\n",
        "plt.grid()\n",
        "plt.title(\"Cross Validation Error for each k\")\n",
        "plt.xlabel(\"C's\")\n",
        "plt.ylabel(\"Error measure\")\n",
        "plt.show()\n",
        "\n",
        "\n",
        "best_alpha_text = np.argmin(cv_log_error)\n",
        "clf = LogisticRegression(class_weight='balanced',C=alpha[best_alpha_text],penalty='l2',random_state=42,n_jobs=-1)\n",
        "clf.fit(train_text_feature_tfidf, y_train)\n",
        "sig_clf = CalibratedClassifierCV(clf, method=\"sigmoid\")\n",
        "sig_clf.fit(train_text_feature_tfidf, y_train)\n",
        "\n",
        "predict_y_text = sig_clf.predict_proba(train_text_feature_tfidf)\n",
        "print('For values of C alpha = ', alpha[best_alpha_text], \"The train log loss is:\",log_loss(y_train, predict_y_text, labels=clf.classes_, eps=1e-15))\n",
        "predict_y1_text = sig_clf.predict_proba(cv_text_feature_tfidf)\n",
        "print('For values of C alpha = ', alpha[best_alpha_text], \"The cross validation log loss is:\",log_loss(y_cv, predict_y1_text, labels=clf.classes_, eps=1e-15))\n",
        "predict_y2_text = sig_clf.predict_proba(test_text_feature_tfidf)\n",
        "print('For values of C alpha = ', alpha[best_alpha_text], \"The test log loss is:\",log_loss(y_test, predict_y2_text, labels=clf.classes_, eps=1e-15))"
      ],
      "execution_count": 106,
      "outputs": [
        {
          "output_type": "stream",
          "text": [
            "For the C value  1e-05 the logg loss is : 1.447520937778413\n",
            "For the C value  0.0001 the logg loss is : 1.0953148722440598\n",
            "For the C value  0.001 the logg loss is : 1.0333057729073143\n",
            "For the C value  0.01 the logg loss is : 1.0604923387527345\n",
            "For the C value  0.1 the logg loss is : 1.0909451888155557\n",
            "For the C value  1 the logg loss is : 1.1169262669857034\n",
            "For the C value  10 the logg loss is : 1.141141424414817\n",
            "For the C value  100 the logg loss is : 1.1682218886464641\n",
            "For the C value  1000 the logg loss is : 1.1830483940769716\n",
            "For the C value  10000 the logg loss is : 1.1845775185192204\n"
          ],
          "name": "stdout"
        },
        {
          "output_type": "display_data",
          "data": {
            "image/png": "[encoded data removed]",
            "text/plain": [
              "<Figure size 432x288 with 1 Axes>"
            ]
          },
          "metadata": {
            "tags": []
          }
        },
        {
          "output_type": "stream",
          "text": [
            "For values of C alpha =  0.001 The train log loss is: 0.6141766819611787\n",
            "For values of C alpha =  0.001 The cross validation log loss is: 1.0333057729073143\n",
            "For values of C alpha =  0.001 The test log loss is: 1.1724585537615217\n"
          ],
          "name": "stdout"
        }
      ]
    },
    {
      "cell_type": "code",
      "metadata": {
        "id": "Ix3eGJQdXDJ3",
        "colab_type": "code",
        "colab": {}
      },
      "source": [
        "#Data preparation for ML models.\n",
        "\n",
        "#Misc. functionns for ML models\n",
        "\n",
        "\n",
        "def predict_and_plot_confusion_matrix(train_x, train_y,test_x, test_y, clf):\n",
        "    clf.fit(train_x, train_y)\n",
        "    sig_clf = CalibratedClassifierCV(clf, method=\"sigmoid\")\n",
        "    sig_clf.fit(train_x, train_y)\n",
        "    pred_y = sig_clf.predict(test_x)\n",
        "\n",
        "    # for calculating log_loss we willl provide the array of probabilities belongs to each class\n",
        "    print(\"Log loss :\",log_loss(test_y, sig_clf.predict_proba(test_x)))\n",
        "    # calculating the number of data points that are misclassified\n",
        "    print(\"Number of mis-classified points :\", np.count_nonzero((pred_y- test_y))/test_y.shape[0])\n",
        "    plot_confusion_matrix(test_y, pred_y)"
      ],
      "execution_count": 0,
      "outputs": []
    },
    {
      "cell_type": "code",
      "metadata": {
        "id": "Hjr9OSp5XLCa",
        "colab_type": "code",
        "colab": {}
      },
      "source": [
        "def report_log_loss(train_x, train_y, test_x, test_y,  clf):\n",
        "    clf.fit(train_x, train_y)\n",
        "    sig_clf = CalibratedClassifierCV(clf, method=\"sigmoid\")\n",
        "    sig_clf.fit(train_x, train_y)\n",
        "    sig_clf_probs = sig_clf.predict_proba(test_x)\n",
        "    return log_loss(test_y, sig_clf_probs, eps=1e-15)"
      ],
      "execution_count": 0,
      "outputs": []
    },
    {
      "cell_type": "code",
      "metadata": {
        "id": "09RhBqhIXNcj",
        "colab_type": "code",
        "colab": {
          "base_uri": "https://localhost:8080/",
          "height": 68
        },
        "outputId": "4fbfa938-70fe-4363-8937-cf6de3a11918"
      },
      "source": [
        "# merging gene, variance and text features\n",
        "\n",
        "# building train, test and cross validation data sets\n",
        "# a = [[1, 2], \n",
        "#      [3, 4]]\n",
        "# b = [[4, 5], \n",
        "#      [6, 7]]\n",
        "# hstack(a, b) = [[1, 2, 4, 5],\n",
        "#                [ 3, 4, 6, 7]]\n",
        "\n",
        "train_gene_var_tfidf = hstack((train_gene_feature_tfidf,train_var_feature_tfidf))\n",
        "cv_gene_var_tfidf = hstack((cv_gene_feature_tfidf,cv_var_feature_tfidf))\n",
        "test_gene_var_tfidf = hstack((test_gene_feature_tfidf,test_var_feature_tfidf))\n",
        "print(\"Shape of Gene feature in Train data is :\",train_gene_feature_tfidf.shape[0])\n",
        "print(\"Shape of Variation feature in Train data is :\",train_var_feature_tfidf.shape[0])\n",
        "print(\"Shape of Gene and Variation feature in Train data is :\",train_gene_var_tfidf.shape[0])\n",
        "\n",
        "train_x_tfidfCoding = hstack((train_gene_var_tfidf, train_text_feature_tfidf)).tocsr()\n",
        "train_y = np.array(list(X_train['Class']))\n",
        "\n",
        "test_x_tfidfCoding = hstack((test_gene_var_tfidf, test_text_feature_tfidf)).tocsr()\n",
        "test_y = np.array(list(X_test['Class']))\n",
        "\n",
        "cv_x_tfidfCoding = hstack((cv_gene_var_tfidf, cv_text_feature_tfidf)).tocsr()\n",
        "cv_y = np.array(list(X_cv['Class']))"
      ],
      "execution_count": 109,
      "outputs": [
        {
          "output_type": "stream",
          "text": [
            "Shape of Gene feature in Train data is : 2124\n",
            "Shape of Variation feature in Train data is : 2124\n",
            "Shape of Gene and Variation feature in Train data is : 2124\n"
          ],
          "name": "stdout"
        }
      ]
    },
    {
      "cell_type": "code",
      "metadata": {
        "id": "3LW1xCwJXRMJ",
        "colab_type": "code",
        "outputId": "c778b5e6-3957-4204-e5a9-657cd81611be",
        "colab": {
          "base_uri": "https://localhost:8080/",
          "height": 85
        }
      },
      "source": [
        "print(\"Tfidf encoding features :\")\n",
        "print(\"(number of data points * number of features) in train data = \", train_x_tfidfCoding.shape)\n",
        "print(\"(number of data points * number of features) in test data = \", test_x_tfidfCoding.shape)\n",
        "print(\"(number of data points * number of features) in cross validation data =\", cv_x_tfidfCoding.shape)"
      ],
      "execution_count": 110,
      "outputs": [
        {
          "output_type": "stream",
          "text": [
            "Tfidf encoding features :\n",
            "(number of data points * number of features) in train data =  (2124, 17186)\n",
            "(number of data points * number of features) in test data =  (665, 17186)\n",
            "(number of data points * number of features) in cross validation data = (532, 17186)\n"
          ],
          "name": "stdout"
        }
      ]
    },
    {
      "cell_type": "markdown",
      "metadata": {
        "id": "aqHHk5LtZTHe",
        "colab_type": "text"
      },
      "source": [
        "<h2> Logistic Regression Model :"
      ]
    },
    {
      "cell_type": "code",
      "metadata": {
        "id": "uqinaZOvZSMn",
        "colab_type": "code",
        "outputId": "abab4514-3782-4d7d-f291-cd5098f8ace8",
        "colab": {
          "base_uri": "https://localhost:8080/",
          "height": 516
        }
      },
      "source": [
        "alpha = [10 ** x for x in range(-5,5)]\n",
        "cv_log_error = []\n",
        "for i in alpha:\n",
        "  clf=LogisticRegression(class_weight='balanced',C=i,penalty='l2',random_state=42,n_jobs=-1)\n",
        "  clf.fit(train_x_tfidfCoding,y_train)\n",
        "  sig_clf=CalibratedClassifierCV(clf,method='sigmoid')\n",
        "  sig_clf.fit(train_x_tfidfCoding,y_train)\n",
        "  predicted_y=sig_clf.predict_proba(cv_x_tfidfCoding)\n",
        "  cv_log_error.append(log_loss(y_cv,predicted_y,labels=clf.classes_,eps=1e-15))\n",
        "  print(\"For the C value \",i,\"the logg loss is :\",log_loss(y_cv,predicted_y,labels=clf.classes_,eps=1e-15))\n",
        "\n",
        "\n",
        "fig, ax = plt.subplots()\n",
        "ax.plot(alpha, cv_log_error,c='g')\n",
        "for i, txt in enumerate(np.round(cv_log_error,3)):\n",
        "    ax.annotate((alpha[i],np.round(txt,3)), (alpha[i],cv_log_error[i]))\n",
        "plt.grid()\n",
        "plt.title(\"Cross Validation Error for each k\")\n",
        "plt.xlabel(\"C's\")\n",
        "plt.ylabel(\"Error measure\")\n",
        "plt.show()\n",
        "\n",
        "\n",
        "best_alpha_model = np.argmin(cv_log_error)\n",
        "clf = LogisticRegression(class_weight='balanced',C=alpha[best_alpha_model],penalty='l2',random_state=42,n_jobs=-1)\n",
        "clf.fit(train_x_tfidfCoding, y_train)\n",
        "sig_clf = CalibratedClassifierCV(clf, method=\"sigmoid\")\n",
        "sig_clf.fit(train_x_tfidfCoding, y_train)\n",
        "\n",
        "predict_y_model = sig_clf.predict_proba(train_x_tfidfCoding)\n",
        "print('For values of C alpha = ', alpha[best_alpha_model], \"The train log loss is:\",log_loss(y_train, predict_y_model, labels=clf.classes_, eps=1e-15))\n",
        "predict_y1_model = sig_clf.predict_proba(cv_x_tfidfCoding)\n",
        "print('For values of C alpha = ', alpha[best_alpha_model], \"The cross validation log loss is:\",log_loss(y_cv, predict_y1_model, labels=clf.classes_, eps=1e-15))\n",
        "predict_y2_model = sig_clf.predict_proba(test_x_tfidfCoding)\n",
        "print('For values of C alpha = ', alpha[best_alpha_model], \"The test log loss is:\",log_loss(y_test, predict_y2_model, labels=clf.classes_, eps=1e-15))"
      ],
      "execution_count": 111,
      "outputs": [
        {
          "output_type": "stream",
          "text": [
            "For the C value  1e-05 the logg loss is : 1.447439989448782\n",
            "For the C value  0.0001 the logg loss is : 1.0951564603846942\n",
            "For the C value  0.001 the logg loss is : 1.0330445983052046\n",
            "For the C value  0.01 the logg loss is : 1.060048016285468\n",
            "For the C value  0.1 the logg loss is : 1.0895525673956687\n",
            "For the C value  1 the logg loss is : 1.1085747027514898\n",
            "For the C value  10 the logg loss is : 1.11183662234264\n",
            "For the C value  100 the logg loss is : 1.1109460025435067\n",
            "For the C value  1000 the logg loss is : 1.113539267275451\n",
            "For the C value  10000 the logg loss is : 1.1149254868307177\n"
          ],
          "name": "stdout"
        },
        {
          "output_type": "display_data",
          "data": {
            "image/png": "[encoded data removed]",
            "text/plain": [
              "<Figure size 432x288 with 1 Axes>"
            ]
          },
          "metadata": {
            "tags": []
          }
        },
        {
          "output_type": "stream",
          "text": [
            "For values of C alpha =  0.001 The train log loss is: 0.6139259533736545\n",
            "For values of C alpha =  0.001 The cross validation log loss is: 1.0330445983052046\n",
            "For values of C alpha =  0.001 The test log loss is: 1.1722526253453058\n"
          ],
          "name": "stdout"
        }
      ]
    },
    {
      "cell_type": "markdown",
      "metadata": {
        "id": "Tt5Q3XWeaL9m",
        "colab_type": "text"
      },
      "source": [
        "**Testing model with best hyper-parameter :**"
      ]
    },
    {
      "cell_type": "code",
      "metadata": {
        "id": "3ExFeJSYaMoU",
        "colab_type": "code",
        "outputId": "f7e1c80c-9f97-445c-814e-254f7cd8195e",
        "colab": {
          "base_uri": "https://localhost:8080/",
          "height": 1000
        }
      },
      "source": [
        "clf = LogisticRegression(C=alpha[best_alpha_model],class_weight='balanced',penalty='l2',random_state=42,n_jobs=-1)\n",
        "predict_and_plot_confusion_matrix(train_x_tfidfCoding, y_train, test_x_tfidfCoding, y_test, clf)"
      ],
      "execution_count": 112,
      "outputs": [
        {
          "output_type": "stream",
          "text": [
            "Log loss : 1.1722526253453058\n",
            "Number of mis-classified points : 0.4075187969924812\n",
            "-------------------- Confusion matrix --------------------\n"
          ],
          "name": "stdout"
        },
        {
          "output_type": "display_data",
          "data": {
            "image/png": "[encoded data removed]",
            "text/plain": [
              "<Figure size 1440x504 with 2 Axes>"
            ]
          },
          "metadata": {
            "tags": []
          }
        },
        {
          "output_type": "stream",
          "text": [
            "-------------------- Precision matrix (Column Sum = 1) --------------------\n"
          ],
          "name": "stdout"
        },
        {
          "output_type": "display_data",
          "data": {
            "image/png": "[encoded data removed]",
            "text/plain": [
              "<Figure size 1440x504 with 2 Axes>"
            ]
          },
          "metadata": {
            "tags": []
          }
        },
        {
          "output_type": "stream",
          "text": [
            "-------------------- Recall matrix (Row Sum = 1) --------------------\n"
          ],
          "name": "stdout"
        },
        {
          "output_type": "display_data",
          "data": {
            "image/png": "[encoded data removed]",
            "text/plain": [
              "<Figure size 1440x504 with 2 Axes>"
            ]
          },
          "metadata": {
            "tags": []
          }
        }
      ]
    },
    {
      "cell_type": "code",
      "metadata": {
        "id": "LlIgRlPeaVvU",
        "colab_type": "code",
        "outputId": "9d17aa56-e159-48ef-e05e-06773fa2b621",
        "colab": {
          "base_uri": "https://localhost:8080/",
          "height": 34
        }
      },
      "source": [
        "Weight_vector_before_eps = clf.coef_\n",
        "print(Weight_vector_before_eps.shape)"
      ],
      "execution_count": 113,
      "outputs": [
        {
          "output_type": "stream",
          "text": [
            "(9, 17186)\n"
          ],
          "name": "stdout"
        }
      ]
    },
    {
      "cell_type": "markdown",
      "metadata": {
        "id": "SS_dvaJFMgFm",
        "colab_type": "text"
      },
      "source": [
        "<h3> Sample query point for correct class label: </h3>"
      ]
    },
    {
      "cell_type": "code",
      "metadata": {
        "id": "cEXv6tmLdE7e",
        "colab_type": "code",
        "outputId": "c6dad1b6-8480-4296-fcbe-40ccbcf8534c",
        "colab": {
          "base_uri": "https://localhost:8080/",
          "height": 68
        }
      },
      "source": [
        "test_point_index = 10\n",
        "#no_feature = 100\n",
        "predicted_cls = clf.predict(train_x_tfidfCoding[test_point_index])\n",
        "print(\"Predicted Class :\", predicted_cls[0])\n",
        "print(\"Predicted Class Probabilities:\", np.round(sig_clf.predict_proba(train_x_tfidfCoding[test_point_index]),4))\n",
        "print(\"Actual Class :\", y_test[test_point_index])"
      ],
      "execution_count": 114,
      "outputs": [
        {
          "output_type": "stream",
          "text": [
            "Predicted Class : 1\n",
            "Predicted Class Probabilities: [[0.5873 0.0397 0.0034 0.2842 0.012  0.0086 0.0608 0.0022 0.0019]]\n",
            "Actual Class : 1\n"
          ],
          "name": "stdout"
        }
      ]
    },
    {
      "cell_type": "markdown",
      "metadata": {
        "id": "XJoH10JHMnay",
        "colab_type": "text"
      },
      "source": [
        "<h3> Sample query point for incorrect class label : </h3>"
      ]
    },
    {
      "cell_type": "code",
      "metadata": {
        "id": "fZQiASvvdrZW",
        "colab_type": "code",
        "outputId": "b477703c-ef13-4310-8ffb-11a2fa8e669c",
        "colab": {
          "base_uri": "https://localhost:8080/",
          "height": 68
        }
      },
      "source": [
        "test_point_index = 19\n",
        "#no_feature = 100\n",
        "predicted_cls = clf.predict(train_x_tfidfCoding[test_point_index])\n",
        "print(\"Predicted Class :\", predicted_cls[0])\n",
        "print(\"Predicted Class Probabilities:\", np.round(sig_clf.predict_proba(train_x_tfidfCoding[test_point_index]),4))\n",
        "print(\"Actual Class :\", y_test[test_point_index])"
      ],
      "execution_count": 115,
      "outputs": [
        {
          "output_type": "stream",
          "text": [
            "Predicted Class : 4\n",
            "Predicted Class Probabilities: [[0.1313 0.1107 0.0125 0.5173 0.0322 0.0384 0.1425 0.0075 0.0076]]\n",
            "Actual Class : 3\n"
          ],
          "name": "stdout"
        }
      ]
    },
    {
      "cell_type": "markdown",
      "metadata": {
        "id": "27pY1u4MMvkl",
        "colab_type": "text"
      },
      "source": [
        "Results :"
      ]
    },
    {
      "cell_type": "code",
      "metadata": {
        "id": "n4KqHwx4wQph",
        "colab_type": "code",
        "colab": {
          "base_uri": "https://localhost:8080/",
          "height": 153
        },
        "outputId": "d097f71f-9082-4869-f686-df3bb522dbdc"
      },
      "source": [
        "from prettytable import PrettyTable\n",
        "\n",
        "x = PrettyTable()\n",
        "x.field_names =  [\"Feature_Name\",\"Best Hyperparameter\",\"Train Log_Loss\",\"CV Log_Loss\",\"Test Log_Loss\"]\n",
        "x.add_row([\"Gene\", alpha[best_alpha_gene],log_loss(y_train, predict_y_gene, labels=clf.classes_, eps=1e-15), log_loss(y_cv, predict_y1_gene, labels=clf.classes_, eps=1e-15),log_loss(y_test, predict_y2_gene, labels=clf.classes_, eps=1e-15)])\n",
        "x.add_row([\"Variation\", alpha[best_alpha_var],log_loss(y_train, predict_y_var, labels=clf.classes_, eps=1e-15),log_loss(y_cv, predict_y1_var, labels=clf.classes_, eps=1e-15),log_loss(y_test, predict_y2_var, labels=clf.classes_, eps=1e-15)])\n",
        "x.add_row([\"Text\", alpha[best_alpha_text],log_loss(y_train, predict_y_text, labels=clf.classes_, eps=1e-15),log_loss(y_cv, predict_y1_text, labels=clf.classes_, eps=1e-15),log_loss(y_test, predict_y2_text, labels=clf.classes_, eps=1e-15)])\n",
        "x.add_row([\"Gene+Variation+Text\", alpha[best_alpha_model],log_loss(y_train, predict_y_model, labels=clf.classes_, eps=1e-15),log_loss(y_cv, predict_y1_model, labels=clf.classes_, eps=1e-15),log_loss(y_test, predict_y2_model, labels=clf.classes_, eps=1e-15)])\n",
        "print(x)"
      ],
      "execution_count": 116,
      "outputs": [
        {
          "output_type": "stream",
          "text": [
            "+---------------------+---------------------+--------------------+--------------------+--------------------+\n",
            "|     Feature_Name    | Best Hyperparameter |   Train Log_Loss   |    CV Log_Loss     |   Test Log_Loss    |\n",
            "+---------------------+---------------------+--------------------+--------------------+--------------------+\n",
            "|         Gene        |          10         | 0.9895439996043248 | 1.168477223443221  | 1.2466627627285916 |\n",
            "|      Variation      |          10         | 0.7894118109840166 | 1.6914554387414513 | 1.7180460938833293 |\n",
            "|         Text        |        0.001        | 0.6141766819611787 | 1.0333057729073143 | 1.1724585537615217 |\n",
            "| Gene+Variation+Text |        0.001        | 0.6139259533736545 | 1.0330445983052046 | 1.1722526253453058 |\n",
            "+---------------------+---------------------+--------------------+--------------------+--------------------+\n"
          ],
          "name": "stdout"
        }
      ]
    },
    {
      "cell_type": "markdown",
      "metadata": {
        "id": "8uQmsqjXRB4t",
        "colab_type": "text"
      },
      "source": [
        "If you observe the log-loss for Geene and Varaiation and Text feature it's same as when we got for Text in Univariate analysis. However, we took only top 15000 samples based on idf score."
      ]
    },
    {
      "cell_type": "markdown",
      "metadata": {
        "id": "znAAAUcxNsjn",
        "colab_type": "text"
      },
      "source": [
        "<h3>Perform Pertubation test to check if features are multicollinear :</h3>"
      ]
    },
    {
      "cell_type": "code",
      "metadata": {
        "id": "i88M5shyN2Rt",
        "colab_type": "code",
        "colab": {
          "base_uri": "https://localhost:8080/",
          "height": 51
        },
        "outputId": "28a825e4-a584-4c6c-8f75-ff63608657c9"
      },
      "source": [
        "import scipy as sp\n",
        "\n",
        "#Weight vector before adding epsilon\n",
        "W_before_epsilon = clf.coef_\n",
        "\n",
        "#creating a epsilon value with the help of normal distribution\n",
        "epsilon = sp.stats.distributions.norm.rvs(loc=0,scale=0.0001)\n",
        "\n",
        "#No of non zeros in train_x_tfidfCoding vector\n",
        "no_of_non_zero = train_x_tfidfCoding.count_nonzero()\n",
        "\n",
        "from scipy.sparse import csr_matrix\n",
        "\n",
        "indices_X_train = train_x_tfidfCoding.indices\n",
        "indptr_X_train = train_x_tfidfCoding.indptr\n",
        "\n",
        "#Shape of train_x_tfidfCoding\n",
        "Shape = train_x_tfidfCoding.shape\n",
        "\n",
        "#creating data with the epsilon\n",
        "data = [epsilon] * no_of_non_zero\n",
        "\n",
        "#Creating Sparse matrix with epslion\n",
        "sparse_epsilon = csr_matrix((data,indices_X_train,indptr_X_train),shape=Shape,dtype=float)\n",
        "\n",
        "#Adding the epsilon value to our train_x_tfidfCoding data \n",
        "epsilon_train = train_x_tfidfCoding + sparse_epsilon\n",
        "\n",
        "#Shape of epsilpn matrix\n",
        "print(train_x_tfidfCoding.shape)\n",
        "print(epsilon_train.shape)"
      ],
      "execution_count": 117,
      "outputs": [
        {
          "output_type": "stream",
          "text": [
            "(2124, 17186)\n",
            "(2124, 17186)\n"
          ],
          "name": "stdout"
        }
      ]
    },
    {
      "cell_type": "code",
      "metadata": {
        "id": "b80Mh5j_RXoi",
        "colab_type": "code",
        "colab": {}
      },
      "source": [
        "clf_aftr_eps = LogisticRegression(C=0.001,class_weight='balanced',penalty='l2',random_state=42,n_jobs=-1)\n",
        "clf_aftr_eps.fit(epsilon_train,y_train)\n",
        "\n",
        "#Weight vector after adding epsilon to train_x_tfidfCoding data\n",
        "W_after_epsilon = clf_aftr_eps.coef_"
      ],
      "execution_count": 0,
      "outputs": []
    },
    {
      "cell_type": "code",
      "metadata": {
        "id": "MQfYu5kNcsXK",
        "colab_type": "code",
        "colab": {
          "base_uri": "https://localhost:8080/",
          "height": 34
        },
        "outputId": "494727fe-2378-4fda-fd0d-b5b0193f0152"
      },
      "source": [
        "#diff = (abs(weight1 - weight2)/weight1) * 100\n",
        "percentage_of_change = abs( (W_before_epsilon-W_after_epsilon) / (W_before_epsilon) )*100\n",
        "q = percentage_of_change[np.where(percentage_of_change > 30)].size\n",
        "print(\"Percentage of features which did not change by more than 30% is :\",(W_before_epsilon.size - q)/W_before_epsilon.size*100)"
      ],
      "execution_count": 125,
      "outputs": [
        {
          "output_type": "stream",
          "text": [
            "Percentage of features which did not change by more than 30% is : 99.98254393110672\n"
          ],
          "name": "stdout"
        }
      ]
    },
    {
      "cell_type": "markdown",
      "metadata": {
        "id": "05wrj0fYdvNu",
        "colab_type": "text"
      },
      "source": [
        "From this we can conclude that the features are not multicollinear because almost more than 99% feature weight difference is not more than 30%. Hence they are not collinear in nature."
      ]
    }
  ]
}