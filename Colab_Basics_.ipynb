{
  "nbformat": 4,
  "nbformat_minor": 0,
  "metadata": {
    "colab": {
      "name": "Colab_Basics .ipynb",
      "provenance": [],
      "machine_shape": "hm",
      "include_colab_link": true
    },
    "kernelspec": {
      "name": "python3",
      "display_name": "Python 3"
    }
  },
  "cells": [
    {
      "cell_type": "markdown",
      "metadata": {
        "id": "view-in-github",
        "colab_type": "text"
      },
      "source": [
        "<a href=\"https://colab.research.google.com/github/siva8696/machine-learning/blob/master/Colab_Basics_.ipynb\" target=\"_parent\"><img src=\"https://colab.research.google.com/assets/colab-badge.svg\" alt=\"Open In Colab\"/></a>"
      ]
    },
    {
      "cell_type": "markdown",
      "metadata": {
        "id": "bI3DrDgfi09_",
        "colab_type": "text"
      },
      "source": [
        "**How to Increase the RAM Size in Colab from 12GB to 25 GB:**\n",
        "I will introduce how you can get a free upgrade from the current 12GB to 25GB. This process is actually very simple and only requires 3 lines of code! After connecting to a runtime, just type the following snippet:\n",
        "\n",
        "Credits to : Haohui in https://towardsdatascience.com/upgrade-your-memory-on-google-colab-for-free-1b8b18e8791d"
      ]
    },
    {
      "cell_type": "code",
      "metadata": {
        "id": "B64QZCyAhl_w",
        "colab_type": "code",
        "colab": {}
      },
      "source": [
        "a = []\n",
        "while(1):\n",
        "  a.append('1')"
      ],
      "execution_count": 0,
      "outputs": []
    },
    {
      "cell_type": "markdown",
      "metadata": {
        "id": "pr-0kHb6lje3",
        "colab_type": "text"
      },
      "source": [
        "Once you run the above code the colab will pop up with  \"Switch to a high-RAM Run time\" window and with couple of option i.e. Yes or No. Please select Yes, that's it!! you RAM will upgrade from 12GB to 25GB"
      ]
    },
    {
      "cell_type": "markdown",
      "metadata": {
        "id": "l1msu-IqlUsz",
        "colab_type": "text"
      },
      "source": [
        "**Connect Drive from Colab:**\n",
        "Run the below code snippet and then it will ask to enter your authorization code. \n",
        "\n",
        "**How to get authorization code :** Use the link which you get it by running the above code snippet and it will redirect to google drive and please \"Allow\" the permissions so that you will get the authorization code then please copy it and paste it in the authorization code block."
      ]
    },
    {
      "cell_type": "code",
      "metadata": {
        "id": "1oJzryvQjy0g",
        "colab_type": "code",
        "colab": {
          "base_uri": "https://localhost:8080/",
          "height": 122
        },
        "outputId": "34066398-cb5a-4553-fc86-42396e9bf99d"
      },
      "source": [
        "from google.colab import drive\n",
        "drive.mount('/content/drive')"
      ],
      "execution_count": 1,
      "outputs": [
        {
          "output_type": "stream",
          "text": [
            "Go to this URL in a browser: https://accounts.google.com/o/oauth2/auth?client_id=947318989803-6bn6qk8qdgf4n4g3pfee6491hc0brc4i.apps.googleusercontent.com&redirect_uri=urn%3aietf%3awg%3aoauth%3a2.0%3aoob&response_type=code&scope=email%20https%3a%2f%2fwww.googleapis.com%2fauth%2fdocs.test%20https%3a%2f%2fwww.googleapis.com%2fauth%2fdrive%20https%3a%2f%2fwww.googleapis.com%2fauth%2fdrive.photos.readonly%20https%3a%2f%2fwww.googleapis.com%2fauth%2fpeopleapi.readonly\n",
            "\n",
            "Enter your authorization code:\n",
            "··········\n",
            "Mounted at /content/drive\n"
          ],
          "name": "stdout"
        }
      ]
    },
    {
      "cell_type": "code",
      "metadata": {
        "id": "bvEUmnqVk80r",
        "colab_type": "code",
        "colab": {}
      },
      "source": [
        ""
      ],
      "execution_count": 0,
      "outputs": []
    }
  ]
}