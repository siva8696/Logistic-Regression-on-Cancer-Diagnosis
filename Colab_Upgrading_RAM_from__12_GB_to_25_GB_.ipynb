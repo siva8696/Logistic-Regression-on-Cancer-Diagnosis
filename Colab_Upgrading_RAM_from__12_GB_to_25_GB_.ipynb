{
  "nbformat": 4,
  "nbformat_minor": 0,
  "metadata": {
    "colab": {
      "name": "Colab_Upgrading_RAM_from_ 12 GB to 25 GB .ipynb",
      "provenance": [],
      "machine_shape": "hm",
      "include_colab_link": true
    },
    "kernelspec": {
      "name": "python3",
      "display_name": "Python 3"
    }
  },
  "cells": [
    {
      "cell_type": "markdown",
      "metadata": {
        "id": "view-in-github",
        "colab_type": "text"
      },
      "source": [
        "<a href=\"https://colab.research.google.com/github/siva8696/machine-learning/blob/master/Colab_Upgrading_RAM_from__12_GB_to_25_GB_.ipynb\" target=\"_parent\"><img src=\"https://colab.research.google.com/assets/colab-badge.svg\" alt=\"Open In Colab\"/></a>"
      ]
    },
    {
      "cell_type": "markdown",
      "metadata": {
        "id": "bI3DrDgfi09_",
        "colab_type": "text"
      },
      "source": [
        "**How to Increase the RAM Size in Colab from 12GB to 25 GB:**\n",
        "I will introduce how you can get a free upgrade from the current 12GB to 25GB. This process is actually very simple and only requires 3 lines of code! After connecting to a runtime, just type the following snippet:\n",
        "\n",
        "Credits to : Haohui in https://medium.com/"
      ]
    },
    {
      "cell_type": "code",
      "metadata": {
        "id": "B64QZCyAhl_w",
        "colab_type": "code",
        "colab": {}
      },
      "source": [
        "a = []\n",
        "while(1):\n",
        "  a.append('1')"
      ],
      "execution_count": 0,
      "outputs": []
    },
    {
      "cell_type": "code",
      "metadata": {
        "id": "1oJzryvQjy0g",
        "colab_type": "code",
        "colab": {}
      },
      "source": [
        ""
      ],
      "execution_count": 0,
      "outputs": []
    }
  ]
}